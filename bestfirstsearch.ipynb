{
 "cells": [
  {
   "cell_type": "code",
   "execution_count": 1,
   "metadata": {},
   "outputs": [],
   "source": [
    "def best_first_search(graph,start,goal,heuristic,path=[]):\n",
    "    open_list=[(0,start)]\n",
    "    closed_list=set()\n",
    "    closed_list.add(start)\n",
    "    while open_list:\n",
    "        open_list.sort(key=lambda x :heuristic[x[1]],reverse=True)\n",
    "        cost,node=open_list.pop()\n",
    "        path.append(node)\n",
    "        if(node==goal):\n",
    "            return cost,path\n",
    "        closed_list.add(node)\n",
    "        for neighbour,neighbour_cost in graph[node]:\n",
    "            if neighbour not in closed_list:\n",
    "                open_list.append((neighbour_cost+cost,neighbour))\n",
    "\n",
    "    return None\n",
    "\n",
    "       "
   ]
  },
  {
   "cell_type": "code",
   "execution_count": 8,
   "metadata": {
    "vscode": {
     "languageId": "powershell"
    }
   },
   "outputs": [
    {
     "name": "stdout",
     "output_type": "stream",
     "text": [
      "Minimum cost path from S to G is ['S', 'B', 'C', 'G']\n",
      "Cost: 10\n"
     ]
    }
   ],
   "source": [
    "graph={\n",
    "    'S':[('A',3),('B',6)],\n",
    "    'A':[('B',2),('C',4),('G',8)],\n",
    "    'B':[('C',1)],\n",
    "    'C':[('G',3)],\n",
    "    'G':[]\n",
    "}\n",
    "start='S'\n",
    "goal='G'\n",
    "heuristic={\n",
    "    'S':7,\n",
    "    'A':6,\n",
    "    'B':2,\n",
    "    'C':1,\n",
    "    'G':0 \n",
    "}\n",
    "result=best_first_search(graph,start,goal,heuristic,[])\n",
    "if result:\n",
    "    print(f\"Minimum cost path from {start} to {goal} is {result[1]}\")\n",
    "    print(f\"Cost: {result[0]}\")\n",
    "else:\n",
    "    print(f\"No cost from {start} to {goal} is {result[0]}\")"
   ]
  },
  {
   "cell_type": "code",
   "execution_count": null,
   "metadata": {
    "vscode": {
     "languageId": "powershell"
    }
   },
   "outputs": [],
   "source": []
  }
 ],
 "metadata": {
  "kernelspec": {
   "display_name": ".venv",
   "language": "python",
   "name": "python3"
  },
  "language_info": {
   "codemirror_mode": {
    "name": "ipython",
    "version": 3
   },
   "file_extension": ".py",
   "mimetype": "text/x-python",
   "name": "python",
   "nbconvert_exporter": "python",
   "pygments_lexer": "ipython3",
   "version": "3.13.3"
  }
 },
 "nbformat": 4,
 "nbformat_minor": 2
}
