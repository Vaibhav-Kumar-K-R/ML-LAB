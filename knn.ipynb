{
 "cells": [
  {
   "cell_type": "code",
   "execution_count": 1,
   "metadata": {},
   "outputs": [],
   "source": [
    "from sklearn.metrics import accuracy_score\n",
    "from sklearn.model_selection import train_test_split\n",
    "from sklearn.neighbors import KNeighborsClassifier as KNN\n",
    "import pandas as pd\n"
   ]
  },
  {
   "cell_type": "code",
   "execution_count": 9,
   "metadata": {},
   "outputs": [],
   "source": [
    "datasets=['glass','fruit']\n",
    "test_splits=[0.1,0.3]\n",
    "k_values=[3,5,7]\n",
    "distance_metrics=['manhattan','euclidean']\n",
    "glass_data=pd.read_csv('glass.csv')\n",
    "fruits_data=pd.read_csv('fruits.csv')\n",
    "Xg=glass_data.drop('Type',axis=1).values\n",
    "yg=glass_data['Type']\n",
    "Xf=fruits_data[['mass','width','height','color_score']].values\n",
    "yf=fruits_data['fruit_label'].values"
   ]
  },
  {
   "cell_type": "code",
   "execution_count": 10,
   "metadata": {},
   "outputs": [
    {
     "name": "stdout",
     "output_type": "stream",
     "text": [
      "glass\n",
      "Accuracy on test set:0.77\n",
      "Accuracy on test set:0.69\n",
      "Accuracy on test set:0.77\n",
      "Accuracy on test set:0.69\n",
      "Accuracy on test set:0.77\n",
      "Accuracy on test set:0.71\n",
      "Accuracy on test set:0.77\n",
      "Accuracy on test set:0.71\n",
      "Accuracy on test set:0.73\n",
      "Accuracy on test set:0.62\n",
      "Accuracy on test set:0.73\n",
      "Accuracy on test set:0.62\n",
      "fruit\n",
      "Accuracy on test set:0.50\n",
      "Accuracy on test set:0.67\n",
      "Accuracy on test set:0.50\n",
      "Accuracy on test set:0.67\n",
      "Accuracy on test set:0.67\n",
      "Accuracy on test set:0.67\n",
      "Accuracy on test set:0.67\n",
      "Accuracy on test set:0.67\n",
      "Accuracy on test set:0.67\n",
      "Accuracy on test set:0.56\n",
      "Accuracy on test set:0.67\n",
      "Accuracy on test set:0.56\n"
     ]
    }
   ],
   "source": [
    "for dataset in datasets:\n",
    "    print(dataset)\n",
    "    for k in k_values:\n",
    "        for p,distance in enumerate(distance_metrics):\n",
    "            for ts in test_splits:\n",
    "                knn=KNN(n_neighbors=k,p=1,weights='distance')\n",
    "                if dataset=='glass':\n",
    "                    X_train,X_test,y_train,y_test=train_test_split(Xg,yg,test_size=ts,random_state=42)\n",
    "                else:\n",
    "                    X_train,X_test,y_train,y_test=train_test_split(Xf,yf,test_size=ts,random_state=42)\n",
    "                knn.fit(X_train,y_train)   \n",
    "                accuracy=knn.score(X_test,y_test)\n",
    "                print(f\"Accuracy on test set:{accuracy:.2f}\")\n",
    "\n"
   ]
  },
  {
   "cell_type": "code",
   "execution_count": null,
   "metadata": {},
   "outputs": [],
   "source": []
  }
 ],
 "metadata": {
  "kernelspec": {
   "display_name": ".venv",
   "language": "python",
   "name": "python3"
  },
  "language_info": {
   "codemirror_mode": {
    "name": "ipython",
    "version": 3
   },
   "file_extension": ".py",
   "mimetype": "text/x-python",
   "name": "python",
   "nbconvert_exporter": "python",
   "pygments_lexer": "ipython3",
   "version": "3.13.3"
  }
 },
 "nbformat": 4,
 "nbformat_minor": 2
}
