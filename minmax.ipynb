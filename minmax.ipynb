{
 "cells": [
  {
   "cell_type": "code",
   "execution_count": 11,
   "metadata": {},
   "outputs": [],
   "source": [
    "class TreeNode:\n",
    "    def __init__(self,value,children=[]):\n",
    "        self.value=value\n",
    "        self.children=children\n",
    "    "
   ]
  },
  {
   "cell_type": "code",
   "execution_count": 14,
   "metadata": {},
   "outputs": [],
   "source": [
    "def minmax(depth,node,maximizing_player):\n",
    "    if depth==0 or not node.children:\n",
    "        return node.value,[node.value]\n",
    "    if maximizing_player:\n",
    "        max_value=float(\"-inf\")\n",
    "        max_path=[]\n",
    "        for child in node.children:\n",
    "            child_value,child_path=minmax(depth-1,child,False)\n",
    "            if child_value>max_value:\n",
    "                max_value=child_value\n",
    "                max_path=[node.value]+child_path\n",
    "        return max_value,max_path\n",
    "    else:\n",
    "        min_value=float(\"inf\")\n",
    "        min_path=[]\n",
    "        for child in node.children:\n",
    "            child_value,child_path=minmax(depth-1,child,True)\n",
    "            if child_value<min_value:\n",
    "                min_value=child_value\n",
    "                min_path=[node.value]+child_path\n",
    "        return min_value,min_path\n"
   ]
  },
  {
   "cell_type": "code",
   "execution_count": 15,
   "metadata": {},
   "outputs": [
    {
     "name": "stdout",
     "output_type": "stream",
     "text": [
      "Optimal value:  3\n",
      "Optimal path:  [0, 1, 3]\n"
     ]
    }
   ],
   "source": [
    "game_tree=TreeNode(0,[\n",
    "    TreeNode(1,[TreeNode(3),TreeNode(12)]),\n",
    "    TreeNode(4,[TreeNode(8),TreeNode(2)])\n",
    "])\n",
    "optimal_value,optimal_path=minmax(2,game_tree,True)\n",
    "print(\"Optimal value: \",optimal_value)\n",
    "print(\"Optimal path: \",optimal_path)"
   ]
  },
  {
   "cell_type": "code",
   "execution_count": null,
   "metadata": {},
   "outputs": [],
   "source": []
  }
 ],
 "metadata": {
  "kernelspec": {
   "display_name": ".venv",
   "language": "python",
   "name": "python3"
  },
  "language_info": {
   "codemirror_mode": {
    "name": "ipython",
    "version": 3
   },
   "file_extension": ".py",
   "mimetype": "text/x-python",
   "name": "python",
   "nbconvert_exporter": "python",
   "pygments_lexer": "ipython3",
   "version": "3.13.3"
  }
 },
 "nbformat": 4,
 "nbformat_minor": 2
}
